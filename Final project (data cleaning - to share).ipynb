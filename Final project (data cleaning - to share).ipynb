{
 "cells": [
  {
   "cell_type": "markdown",
   "metadata": {},
   "source": [
    "# Data importing, cleaning, and merging"
   ]
  },
  {
   "cell_type": "code",
   "execution_count": 2,
   "metadata": {},
   "outputs": [],
   "source": [
    "import pandas as pd\n",
    "import matplotlib.pyplot as plt\n",
    "import numpy as np"
   ]
  },
  {
   "cell_type": "code",
   "execution_count": 3,
   "metadata": {},
   "outputs": [],
   "source": [
    "df = pd.read_csv('usc_report.csv', encoding = 'ISO-8859-1', low_memory=False)"
   ]
  },
  {
   "cell_type": "code",
   "execution_count": 4,
   "metadata": {},
   "outputs": [
    {
     "data": {
      "text/plain": [
       "Index(['User_ID', 'Guest', 'Email_Address', 'Phone_Number', 'Pre_Resy_Diner',\n",
       "       'First_Visit', 'Last_Visit', 'Completed_Reservations', 'Walk_in',\n",
       "       'No_Show', 'Cancelled_Reservations', 'Brunch_Visits', 'Lunch_Visits',\n",
       "       'Dinner_Visits', 'Monday', 'Tuesday', 'Wednesday', 'Thursday', 'Friday',\n",
       "       'Saturday', 'Sunday', 'Wine Dinner Resevations', 'Average_Party_Size',\n",
       "       'Tag', 'Guest_Notes', 'Reservations', 'Ticket_ID', 'Item',\n",
       "       'Item_Category', 'quantity', 'Item_Price', 'Total_Check_Spend',\n",
       "       'All_Time_Spend'],\n",
       "      dtype='object')"
      ]
     },
     "execution_count": 4,
     "metadata": {},
     "output_type": "execute_result"
    }
   ],
   "source": [
    "df.columns"
   ]
  },
  {
   "cell_type": "code",
   "execution_count": 5,
   "metadata": {},
   "outputs": [],
   "source": [
    "#convert Pre_Resy_Diner to 0 or 1\n",
    "df['Pre_Resy_Diner'] = df['Pre_Resy_Diner'].apply(lambda x: 0 if x=='New USC' else 1)"
   ]
  },
  {
   "cell_type": "code",
   "execution_count": 6,
   "metadata": {},
   "outputs": [],
   "source": [
    "#Convert columns that should be numbers to int or float\n",
    "#built-in Pandas methods don't work, hence custom code\n",
    "\n",
    "def rem_non_nums(val):\n",
    "    if type(val) == (int or float):\n",
    "        return val\n",
    "    else:\n",
    "        try:\n",
    "            return int(val)\n",
    "        except:\n",
    "            return 0\n",
    "\n",
    "#run the number cleaning function on every numerical column\n",
    "cols_that_should_be_ints = ['Completed_Reservations','Walk_in', 'No_Show', 'Cancelled_Reservations','Brunch_Visits','Lunch_Visits','Dinner_Visits','Monday','Tuesday','Wednesday','Thursday','Friday','Saturday','Sunday','Wine Dinner Resevations','Average_Party_Size','All_Time_Spend']\n",
    "\n",
    "for col in cols_that_should_be_ints:\n",
    "    df[col] = df[col].map(rem_non_nums)"
   ]
  },
  {
   "cell_type": "code",
   "execution_count": 7,
   "metadata": {},
   "outputs": [
    {
     "data": {
      "text/plain": [
       "27488"
      ]
     },
     "execution_count": 7,
     "metadata": {},
     "output_type": "execute_result"
    }
   ],
   "source": [
    "len(df.loc[df['All_Time_Spend'] == 0])"
   ]
  },
  {
   "cell_type": "code",
   "execution_count": 8,
   "metadata": {},
   "outputs": [
    {
     "data": {
      "text/plain": [
       "19870"
      ]
     },
     "execution_count": 8,
     "metadata": {},
     "output_type": "execute_result"
    }
   ],
   "source": [
    "len(df.loc[df['Completed_Reservations'] == 0])"
   ]
  },
  {
   "cell_type": "markdown",
   "metadata": {},
   "source": [
    "## Import and merge email data"
   ]
  },
  {
   "cell_type": "code",
   "execution_count": 10,
   "metadata": {},
   "outputs": [],
   "source": [
    "email = pd.read_csv('usc_mailing_list.csv', usecols=[0, 4, 5, 6, 16])\n",
    "email = email.fillna('');"
   ]
  },
  {
   "cell_type": "code",
   "execution_count": 11,
   "metadata": {},
   "outputs": [],
   "source": [
    "#create dummy variable for everyone who opted in for email - so that we can sort them later \n",
    "email['Opted_in'] = email['Email Address'].apply(lambda x: 1 if x !='' else 0)\n",
    "\n",
    "#replace wine dinner updates categorical variable with dummy numerical variable\n",
    "email['Want wine dinner updates?'] = email['Want wine dinner updates?'].apply(lambda x: 0 if x == '' else 1)"
   ]
  },
  {
   "cell_type": "code",
   "execution_count": 12,
   "metadata": {},
   "outputs": [
    {
     "name": "stdout",
     "output_type": "stream",
     "text": [
      "66448 105562\n"
     ]
    }
   ],
   "source": [
    "print(len(email), len(df))"
   ]
  },
  {
   "cell_type": "code",
   "execution_count": 13,
   "metadata": {},
   "outputs": [
    {
     "data": {
      "text/plain": [
       "105562"
      ]
     },
     "execution_count": 13,
     "metadata": {},
     "output_type": "execute_result"
    }
   ],
   "source": [
    "df = pd.merge(df, email, how='left', left_on='Email_Address', right_on='Email Address')\n",
    "len(df)"
   ]
  },
  {
   "cell_type": "markdown",
   "metadata": {},
   "source": [
    "## Move bottle price data to a unified column"
   ]
  },
  {
   "cell_type": "code",
   "execution_count": 14,
   "metadata": {},
   "outputs": [
    {
     "name": "stdout",
     "output_type": "stream",
     "text": [
      "869 105562\n"
     ]
    }
   ],
   "source": [
    "#only keep item price column data when the price is for a bottle of wine\n",
    "len(df.dropna()[df.dropna()['Item_Category'].str.contains('bottle', case=False)][['Item_Price']])\n",
    "\n",
    "wine = df.dropna()[df.dropna()['Item_Category'].str.contains('bottle', case=False)][['Item_Price']]\n",
    "wine.columns = ['bottle_price']\n",
    "\n",
    "#merge the wine data back into the main dataframe\n",
    "df = pd.merge(df, wine, how='left', left_index=True, right_index=True)\n",
    "\n",
    "#check how many rows have wine purchase data\n",
    "print(len(df[~df['bottle_price'].isnull()]), len(df))"
   ]
  },
  {
   "cell_type": "code",
   "execution_count": 16,
   "metadata": {},
   "outputs": [],
   "source": [
    "#convert NaN bottle prices to 0 before de-duping\n",
    "df['bottle_price'] = df['bottle_price'].fillna(0)\n",
    "\n",
    "#convert bottle prices to ints\n",
    "df['bottle_price'] = df['bottle_price'].map(rem_non_nums);\n",
    "\n",
    "#make the bottle price the sum of the bottle prices per user for the de-dupe\n",
    "df['bottle_price'] = df.groupby('User_ID')['bottle_price'].transform('sum')"
   ]
  },
  {
   "cell_type": "markdown",
   "metadata": {},
   "source": [
    "## De-dupe"
   ]
  },
  {
   "cell_type": "code",
   "execution_count": 17,
   "metadata": {},
   "outputs": [
    {
     "name": "stdout",
     "output_type": "stream",
     "text": [
      "75195 105562\n"
     ]
    }
   ],
   "source": [
    "print(len(df.drop_duplicates('User_ID')), len(df)) #length with no duplicates - target after de-duping"
   ]
  },
  {
   "cell_type": "code",
   "execution_count": 18,
   "metadata": {},
   "outputs": [
    {
     "data": {
      "text/plain": [
       "75195"
      ]
     },
     "execution_count": 18,
     "metadata": {},
     "output_type": "execute_result"
    }
   ],
   "source": [
    "df = df.drop_duplicates(subset='User_ID')\n",
    "len(df)"
   ]
  },
  {
   "cell_type": "code",
   "execution_count": 19,
   "metadata": {},
   "outputs": [],
   "source": [
    "df = df.fillna(0)"
   ]
  },
  {
   "cell_type": "markdown",
   "metadata": {},
   "source": [
    "## Convert useful tags to dummy variables"
   ]
  },
  {
   "cell_type": "code",
   "execution_count": 20,
   "metadata": {},
   "outputs": [
    {
     "data": {
      "text/plain": [
       "['', '!Googled', '#betterlatethannever', '**ALERTBAR**', '**AlertKitchen**']"
      ]
     },
     "execution_count": 20,
     "metadata": {},
     "output_type": "execute_result"
    }
   ],
   "source": [
    "#get a list of tags\n",
    "#tags are raw strings, comma separated\n",
    "tag_list = []\n",
    "temp_arr = []\n",
    "\n",
    "for tag_arr in df.Tag:\n",
    "    temp_arr = tag_arr.split(',') #split string on commas\n",
    "    temp_arr = [i.replace(' ','') for i in temp_arr] #remove spaces\n",
    "    for tag in temp_arr:\n",
    "        if tag not in tag_list:\n",
    "            tag_list.append(tag)\n",
    "\n",
    "tag_list.sort()\n",
    "tag_list[:5]"
   ]
  },
  {
   "cell_type": "code",
   "execution_count": 21,
   "metadata": {},
   "outputs": [
    {
     "data": {
      "text/plain": [
       "1843"
      ]
     },
     "execution_count": 21,
     "metadata": {},
     "output_type": "execute_result"
    }
   ],
   "source": [
    "## create dummy variable for regulars\n",
    "def is_reg(tags):\n",
    "    if ('regular' or 'reg') in tags.lower():\n",
    "        return 1\n",
    "    else:\n",
    "        return 0\n",
    "\n",
    "df['Reg'] = df.Tag.apply(is_reg)\n",
    "len(df.loc[df.Reg == 1])"
   ]
  },
  {
   "cell_type": "code",
   "execution_count": 22,
   "metadata": {},
   "outputs": [
    {
     "data": {
      "text/plain": [
       "1165"
      ]
     },
     "execution_count": 22,
     "metadata": {},
     "output_type": "execute_result"
    }
   ],
   "source": [
    "#create dummy variable for 'great next chapter'\n",
    "def has_allergy(tags):\n",
    "    if 'allergy' in tags.lower():\n",
    "        return 1\n",
    "    else:\n",
    "        return 0\n",
    "    \n",
    "df['Allergy'] = df.Tag.apply(has_allergy)\n",
    "len(df.loc[df.Allergy == 1])"
   ]
  },
  {
   "cell_type": "code",
   "execution_count": 23,
   "metadata": {},
   "outputs": [
    {
     "data": {
      "text/plain": [
       "1999"
      ]
     },
     "execution_count": 23,
     "metadata": {},
     "output_type": "execute_result"
    }
   ],
   "source": [
    "#create dummy variable for industry\n",
    "def is_industry(tags):\n",
    "    if 'industry' in tags.lower():\n",
    "        return 1\n",
    "    else:\n",
    "        return 0\n",
    "    \n",
    "df['Industry'] = df.Tag.apply(is_industry)\n",
    "len(df.loc[df.Industry == 1])"
   ]
  },
  {
   "cell_type": "code",
   "execution_count": 24,
   "metadata": {},
   "outputs": [
    {
     "data": {
      "text/plain": [
       "1716"
      ]
     },
     "execution_count": 24,
     "metadata": {},
     "output_type": "execute_result"
    }
   ],
   "source": [
    "#create dummy variable for soigne\n",
    "def is_soigne(tags):\n",
    "    if 'soigne' in tags.lower():\n",
    "        return 1\n",
    "    else:\n",
    "        return 0\n",
    "    \n",
    "df['Soigne'] = df.Tag.apply(is_soigne)\n",
    "len(df.loc[df.Soigne == 1])"
   ]
  },
  {
   "cell_type": "code",
   "execution_count": 25,
   "metadata": {},
   "outputs": [
    {
     "data": {
      "text/plain": [
       "1193"
      ]
     },
     "execution_count": 25,
     "metadata": {},
     "output_type": "execute_result"
    }
   ],
   "source": [
    "#create dummy variable for wine lovers\n",
    "def is_wine_lover(tags):\n",
    "    if 'wine' in tags.lower():\n",
    "        return 1\n",
    "    else:\n",
    "        return 0\n",
    "    \n",
    "df['Wine_Lover'] = df.Tag.apply(is_wine_lover)\n",
    "len(df.loc[df.Wine_Lover == 1])"
   ]
  },
  {
   "cell_type": "code",
   "execution_count": 26,
   "metadata": {},
   "outputs": [
    {
     "data": {
      "text/plain": [
       "810.2212908633696"
      ]
     },
     "execution_count": 26,
     "metadata": {},
     "output_type": "execute_result"
    }
   ],
   "source": [
    "df.loc[df['Wine_Lover'] == 1]['All_Time_Spend'].mean()"
   ]
  },
  {
   "cell_type": "code",
   "execution_count": 27,
   "metadata": {},
   "outputs": [
    {
     "data": {
      "text/plain": [
       "196.892921812924"
      ]
     },
     "execution_count": 27,
     "metadata": {},
     "output_type": "execute_result"
    }
   ],
   "source": [
    "df.loc[df['Wine_Lover'] != 1]['All_Time_Spend'].mean()"
   ]
  },
  {
   "cell_type": "markdown",
   "metadata": {},
   "source": [
    "**Calculate spend per visit**"
   ]
  },
  {
   "cell_type": "code",
   "execution_count": 28,
   "metadata": {},
   "outputs": [
    {
     "data": {
      "text/plain": [
       "998.0"
      ]
     },
     "execution_count": 28,
     "metadata": {},
     "output_type": "execute_result"
    }
   ],
   "source": [
    "df['spend_per_visit'] = df.All_Time_Spend/df.Completed_Reservations\n",
    "df.spend_per_visit = df.spend_per_visit.fillna(0)\n",
    "\n",
    "#get rid of inf\n",
    "df.spend_per_visit = df.spend_per_visit.apply(lambda x: x if x < 10*100 else 0)\n",
    "df.spend_per_visit.max()"
   ]
  },
  {
   "cell_type": "markdown",
   "metadata": {},
   "source": [
    "## Drop to just columns we want"
   ]
  },
  {
   "cell_type": "code",
   "execution_count": 29,
   "metadata": {},
   "outputs": [],
   "source": [
    "cols_to_drop = ['Guest','Email_Address','Phone_Number','First_Visit','Last_Visit','Tag','Guest_Notes','Reservations','Ticket_ID','Item','Item_Category','quantity','Item_Price','Total_Check_Spend','Email Address','OPTIN_TIME','REGION']\n",
    "df = df.drop(cols_to_drop, axis=1)"
   ]
  },
  {
   "cell_type": "code",
   "execution_count": 31,
   "metadata": {},
   "outputs": [],
   "source": [
    "df.to_csv(path_or_buf='cleaned_data.csv', index=False)"
   ]
  }
 ],
 "metadata": {
  "kernelspec": {
   "display_name": "Python 3",
   "language": "python",
   "name": "python3"
  },
  "language_info": {
   "codemirror_mode": {
    "name": "ipython",
    "version": 3
   },
   "file_extension": ".py",
   "mimetype": "text/x-python",
   "name": "python",
   "nbconvert_exporter": "python",
   "pygments_lexer": "ipython3",
   "version": "3.6.5"
  }
 },
 "nbformat": 4,
 "nbformat_minor": 2
}
